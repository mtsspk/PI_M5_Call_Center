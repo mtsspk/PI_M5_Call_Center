{
 "cells": [
  {
   "cell_type": "markdown",
   "metadata": {},
   "source": [
    "Primera pasada en Power Bi\n",
    "\n",
    "La tabla contiene registros para cada llamada entrante al call center.\n",
    "\n",
    "\n",
    "\n",
    "Descripción de estructura y contenido de la tabla:\n",
    "Inicialmente nos encontramos con 444448 registros.\n",
    "No hay valores nulos o faltantes para ningún campo.\n",
    "\n",
    "Exploración de campos\n",
    "\n",
    "\n",
    "    * vru.line: identifica la vru (Voice Response Unit ) y la línea de entrada. Hay 2 VRU AA01 y AA02, con 16 líneas cada una, numeradas del 1 al 16.\n",
    "\n",
    "    * call_id: identifica la llamada como número, teniendo valores entre 10000 y 10200. Los call_id no son valores únicos. Para distintos valores de vru.line se observan valores repetidos de call_id (por ejemplo, vru.line para AA01 y AA02 existe el call_id 10000)\n",
    "\n",
    "    * customer_id: identifica al cliente, siendo 0 para llamadas en las que no se identificó el cliente.\n",
    "\n",
    "    * priority: 0 para clientes no idenfiticados, 1 para clientes regulares, 2 para clientes prioritarios. \n",
    "    Hay registros de clientes identificador (o sea, con un numero de customer_id) que tienen priority 0. Para estos casos se debera modificar los valores por 1.\n",
    "\n",
    "    * type: identifica el tipo de servicio. Se detectan 2 inconsistencias. \n",
    "    Primero, se detectan 6 registros donde type TT tiene un espacio en blanco adelante, por lo que lo cuenta como otro tipo de servicio. Se eliminan los espacios en blanco para unificar las categorias.\n",
    "    Segundo, se identifica el valor AA que no corresponde a ninguno de los 6 tipos de servicio que presta el call center. Existen 5 registros para type AA los cuales son eliminados al ser despreciables para la muestra. \n",
    "\n",
    "\n",
    "    * outcome: refiere al resultado de la llamada. No se identifican inconsistencias.\n",
    "\n",
    "    * server: refiere al agente que atiende la llamada conteniendo como valor solo su nombre. En caso que la llamada no llegue a la instancia de atención por un agente, el valor será NO_SERVER.\n",
    "    Se detectan varias inconsistencias que se corrigen.\n",
    "    Por un lado, se encuentran campos con valores ANO_SERVERT, NO_SERVERAMA. Se modifican a NO_SERVER.\n",
    "    Por otro lado, se encuentran nombres de agentes que comienzan con Z1 y Z2 que son corregidos. \n",
    "    Adicionalmente, se observan valores muy similares que se entiende pueden deberse a errores tipográficos o diminutivos del nombre (ASAF, ASSAF, AVI, AVIDAN, AVNI, ELI, ELINOR y otros ejemplos).\n",
    "    Se observa también un valor EXPRESS para el cual existen 3 registros.\n",
    "    Para analizar el rendimiento de los agentes se deberá definir qué hacer con estos registros y corregir lo necesario.\n",
    "    A efectos del presente análisis no se realizarán más correcciones por el momento en este campo.\n",
    "\n",
    "\n",
    "\n",
    "\n",
    "Campos temporales\n",
    "Nos encontramos con distintos registros referidos a la temporalidad. \n",
    "El campo date refiere a la fecha de la llamada. \n",
    "Se observan 9 campos referidos a las distintas instancias de atención desde que ingresa la llamada hasta su finalización.\n",
    "Dichas instancias son la VRU (vru_), la cola de espera (q_) y el servicio brindado por un agente (ser_). \n",
    "Para cada instancia (VRU, cola de espera, servicio) se cuenta con 3 campos que identifican el ingreso, el egreso y el tiempo transcurrido.  \n",
    "Los valores de ingreso y egreso se expresa en formato de horas:minutos:segundos.\n",
    "El valor de tiempo corresponde a el tiempo de egreso menos el de ingreso para cada instancia, expresandose como segundos.\n",
    "Se modifica el nombre del campo vru_entry por vru_start para normalizar la nomenclatura de los campos.\n",
    "De esta forma nos queda para cada instancia del servicio (vru, q, ser) los campos _start, _exit y _time.\n",
    "\n",
    "Se observan algunas inconsistencias en los datos al traer valores mínimos y máximos para vru_time, q_time y ser_time.\n",
    "En los 3 casos se observan valores máximos que aparentemente son outliers (por encima de 1 hora hasta mas de 1000 horas). Se deberá profundizar la exploración para determinar cuántos registros contienen estos valores atípicos y cómo procesarlos.\n",
    "En el caso de vru_time se observan 350 valores negativos, que no podría ser el caso para el tiempo de servicio. \n",
    "Se observa para estos casos que los valores de vru_start y vru_exit se encuentran invertidos, lo cual deberá ser corregido.\n",
    "\n",
    "Nos encontramos con otro campo de temporalidad, startdate, que contiene como valor el número del día del año que corresponde al inicio del mes al que refiere cada llamada. Se considera innecesario este dato por lo cual se elimina.\n",
    "\n",
    "\n",
    "\n",
    "\n",
    "\n",
    "\n",
    "Observaciones iniciales\n",
    "- Valores repetidos en call_id. Como buena práctica esta tabla debería tener valores únicos para cada registro. \n",
    "\n",
    "\n",
    "Se realizan cambios de tipos de datos de algunos campos:\n",
    "- Date a tipo fecha.\n",
    "- Los campos call_id, customer_id y priority a tipo número entero.\n",
    "- Los campos referidos a tiempo (los que tienen prefijos vru_, q_ y ser_) a tipo tiempo.\n",
    "- \n",
    "\n",
    "\n",
    "Quedan 444443 registros."
   ]
  },
  {
   "cell_type": "markdown",
   "metadata": {},
   "source": [
    "se genera nuevo call id\n"
   ]
  },
  {
   "cell_type": "markdown",
   "metadata": {},
   "source": [
    "Llamadas total time 0"
   ]
  },
  {
   "cell_type": "code",
   "execution_count": null,
   "metadata": {},
   "outputs": [],
   "source": []
  },
  {
   "cell_type": "code",
   "execution_count": null,
   "metadata": {},
   "outputs": [],
   "source": []
  },
  {
   "cell_type": "code",
   "execution_count": null,
   "metadata": {},
   "outputs": [],
   "source": []
  },
  {
   "cell_type": "code",
   "execution_count": null,
   "metadata": {},
   "outputs": [],
   "source": [
    "import pandas as pd\n",
    "import numpy as np\n",
    "import matplotlib.pyplot as plt\n",
    "import seaborn as sns\n",
    "from datetime import datetime"
   ]
  },
  {
   "cell_type": "code",
   "execution_count": 46,
   "metadata": {},
   "outputs": [
    {
     "name": "stderr",
     "output_type": "stream",
     "text": [
      "C:\\Users\\matia\\AppData\\Local\\Temp\\ipykernel_25368\\130550806.py:1: DtypeWarning: Columns (2) have mixed types. Specify dtype option on import or set low_memory=False.\n",
      "  df = pd.read_csv('Call_Center_1999_DataSet_RAW.csv', sep=';')\n"
     ]
    },
    {
     "data": {
      "text/html": [
       "<div>\n",
       "<style scoped>\n",
       "    .dataframe tbody tr th:only-of-type {\n",
       "        vertical-align: middle;\n",
       "    }\n",
       "\n",
       "    .dataframe tbody tr th {\n",
       "        vertical-align: top;\n",
       "    }\n",
       "\n",
       "    .dataframe thead th {\n",
       "        text-align: right;\n",
       "    }\n",
       "</style>\n",
       "<table border=\"1\" class=\"dataframe\">\n",
       "  <thead>\n",
       "    <tr style=\"text-align: right;\">\n",
       "      <th></th>\n",
       "      <th>vru.line</th>\n",
       "      <th>call_id</th>\n",
       "      <th>customer_id</th>\n",
       "      <th>priority</th>\n",
       "      <th>type</th>\n",
       "      <th>date</th>\n",
       "      <th>vru_entry</th>\n",
       "      <th>vru_exit</th>\n",
       "      <th>vru_time</th>\n",
       "      <th>q_start</th>\n",
       "      <th>q_exit</th>\n",
       "      <th>q_time</th>\n",
       "      <th>outcome</th>\n",
       "      <th>ser_start</th>\n",
       "      <th>ser_exit</th>\n",
       "      <th>ser_time</th>\n",
       "      <th>server</th>\n",
       "      <th>startdate</th>\n",
       "    </tr>\n",
       "  </thead>\n",
       "  <tbody>\n",
       "    <tr>\n",
       "      <th>0</th>\n",
       "      <td>AA0101</td>\n",
       "      <td>33116</td>\n",
       "      <td>9664491.0</td>\n",
       "      <td>2</td>\n",
       "      <td>PS</td>\n",
       "      <td>1999-01-01</td>\n",
       "      <td>0:00:31</td>\n",
       "      <td>0:00:36</td>\n",
       "      <td>5</td>\n",
       "      <td>0:00:36</td>\n",
       "      <td>0:03:09</td>\n",
       "      <td>153</td>\n",
       "      <td>HANG</td>\n",
       "      <td>0:00:00</td>\n",
       "      <td>0:00:00</td>\n",
       "      <td>0</td>\n",
       "      <td>NO_SERVER</td>\n",
       "      <td>0</td>\n",
       "    </tr>\n",
       "    <tr>\n",
       "      <th>1</th>\n",
       "      <td>AA0101</td>\n",
       "      <td>33117</td>\n",
       "      <td>0.0</td>\n",
       "      <td>0</td>\n",
       "      <td>PS</td>\n",
       "      <td>1999-01-01</td>\n",
       "      <td>0:34:12</td>\n",
       "      <td>0:34:23</td>\n",
       "      <td>11</td>\n",
       "      <td>0:00:00</td>\n",
       "      <td>0:00:00</td>\n",
       "      <td>0</td>\n",
       "      <td>HANG</td>\n",
       "      <td>0:00:00</td>\n",
       "      <td>0:00:00</td>\n",
       "      <td>0</td>\n",
       "      <td>NO_SERVER</td>\n",
       "      <td>0</td>\n",
       "    </tr>\n",
       "    <tr>\n",
       "      <th>2</th>\n",
       "      <td>AA0101</td>\n",
       "      <td>33118</td>\n",
       "      <td>27997683.0</td>\n",
       "      <td>2</td>\n",
       "      <td>PS</td>\n",
       "      <td>1999-01-01</td>\n",
       "      <td>6:55:20</td>\n",
       "      <td>6:55:26</td>\n",
       "      <td>6</td>\n",
       "      <td>6:55:26</td>\n",
       "      <td>6:55:43</td>\n",
       "      <td>17</td>\n",
       "      <td>AGENT</td>\n",
       "      <td>6:55:43</td>\n",
       "      <td>6:56:37</td>\n",
       "      <td>54</td>\n",
       "      <td>MICHAL</td>\n",
       "      <td>0</td>\n",
       "    </tr>\n",
       "    <tr>\n",
       "      <th>3</th>\n",
       "      <td>AA0101</td>\n",
       "      <td>33119</td>\n",
       "      <td>0.0</td>\n",
       "      <td>0</td>\n",
       "      <td>PS</td>\n",
       "      <td>1999-01-01</td>\n",
       "      <td>7:41:16</td>\n",
       "      <td>7:41:26</td>\n",
       "      <td>10</td>\n",
       "      <td>0:00:00</td>\n",
       "      <td>0:00:00</td>\n",
       "      <td>0</td>\n",
       "      <td>AGENT</td>\n",
       "      <td>7:41:25</td>\n",
       "      <td>7:44:53</td>\n",
       "      <td>208</td>\n",
       "      <td>BASCH</td>\n",
       "      <td>0</td>\n",
       "    </tr>\n",
       "    <tr>\n",
       "      <th>4</th>\n",
       "      <td>AA0101</td>\n",
       "      <td>33120</td>\n",
       "      <td>0.0</td>\n",
       "      <td>0</td>\n",
       "      <td>PS</td>\n",
       "      <td>1999-01-01</td>\n",
       "      <td>8:03:14</td>\n",
       "      <td>8:03:24</td>\n",
       "      <td>10</td>\n",
       "      <td>0:00:00</td>\n",
       "      <td>0:00:00</td>\n",
       "      <td>0</td>\n",
       "      <td>AGENT</td>\n",
       "      <td>8:03:23</td>\n",
       "      <td>8:05:10</td>\n",
       "      <td>107</td>\n",
       "      <td>MICHAL</td>\n",
       "      <td>0</td>\n",
       "    </tr>\n",
       "    <tr>\n",
       "      <th>...</th>\n",
       "      <td>...</td>\n",
       "      <td>...</td>\n",
       "      <td>...</td>\n",
       "      <td>...</td>\n",
       "      <td>...</td>\n",
       "      <td>...</td>\n",
       "      <td>...</td>\n",
       "      <td>...</td>\n",
       "      <td>...</td>\n",
       "      <td>...</td>\n",
       "      <td>...</td>\n",
       "      <td>...</td>\n",
       "      <td>...</td>\n",
       "      <td>...</td>\n",
       "      <td>...</td>\n",
       "      <td>...</td>\n",
       "      <td>...</td>\n",
       "      <td>...</td>\n",
       "    </tr>\n",
       "    <tr>\n",
       "      <th>444443</th>\n",
       "      <td>AA0216</td>\n",
       "      <td>17211</td>\n",
       "      <td>0.0</td>\n",
       "      <td>0</td>\n",
       "      <td>IN</td>\n",
       "      <td>1999-12-31</td>\n",
       "      <td>13:46:51</td>\n",
       "      <td>13:47:04</td>\n",
       "      <td>13</td>\n",
       "      <td>0:00:00</td>\n",
       "      <td>0:00:00</td>\n",
       "      <td>0</td>\n",
       "      <td>AGENT</td>\n",
       "      <td>13:47:03</td>\n",
       "      <td>13:56:16</td>\n",
       "      <td>553</td>\n",
       "      <td>Z2ELINOR</td>\n",
       "      <td>334</td>\n",
       "    </tr>\n",
       "    <tr>\n",
       "      <th>444444</th>\n",
       "      <td>AA0216</td>\n",
       "      <td>17212</td>\n",
       "      <td>0.0</td>\n",
       "      <td>0</td>\n",
       "      <td>IN</td>\n",
       "      <td>1999-12-31</td>\n",
       "      <td>13:58:31</td>\n",
       "      <td>13:58:40</td>\n",
       "      <td>9</td>\n",
       "      <td>13:58:40</td>\n",
       "      <td>13:59:49</td>\n",
       "      <td>69</td>\n",
       "      <td>HANG</td>\n",
       "      <td>0:00:00</td>\n",
       "      <td>0:00:00</td>\n",
       "      <td>0</td>\n",
       "      <td>NO_SERVER</td>\n",
       "      <td>334</td>\n",
       "    </tr>\n",
       "    <tr>\n",
       "      <th>444445</th>\n",
       "      <td>AA0216</td>\n",
       "      <td>17213</td>\n",
       "      <td>0.0</td>\n",
       "      <td>0</td>\n",
       "      <td>IN</td>\n",
       "      <td>1999-12-31</td>\n",
       "      <td>17:10:51</td>\n",
       "      <td>17:11:12</td>\n",
       "      <td>21</td>\n",
       "      <td>0:00:00</td>\n",
       "      <td>0:00:00</td>\n",
       "      <td>0</td>\n",
       "      <td>HANG</td>\n",
       "      <td>0:00:00</td>\n",
       "      <td>0:00:00</td>\n",
       "      <td>0</td>\n",
       "      <td>NO_SERVER</td>\n",
       "      <td>334</td>\n",
       "    </tr>\n",
       "    <tr>\n",
       "      <th>444446</th>\n",
       "      <td>AA0216</td>\n",
       "      <td>17214</td>\n",
       "      <td>0.0</td>\n",
       "      <td>0</td>\n",
       "      <td>IN</td>\n",
       "      <td>1999-12-31</td>\n",
       "      <td>18:30:19</td>\n",
       "      <td>18:30:54</td>\n",
       "      <td>35</td>\n",
       "      <td>0:00:00</td>\n",
       "      <td>0:00:00</td>\n",
       "      <td>0</td>\n",
       "      <td>HANG</td>\n",
       "      <td>0:00:00</td>\n",
       "      <td>0:00:00</td>\n",
       "      <td>0</td>\n",
       "      <td>NO_SERVER</td>\n",
       "      <td>334</td>\n",
       "    </tr>\n",
       "    <tr>\n",
       "      <th>444447</th>\n",
       "      <td>AA0216</td>\n",
       "      <td>17215</td>\n",
       "      <td>0.0</td>\n",
       "      <td>0</td>\n",
       "      <td>IN</td>\n",
       "      <td>1999-12-31</td>\n",
       "      <td>22:23:35</td>\n",
       "      <td>22:23:45</td>\n",
       "      <td>10</td>\n",
       "      <td>0:00:00</td>\n",
       "      <td>0:00:00</td>\n",
       "      <td>0</td>\n",
       "      <td>HANG</td>\n",
       "      <td>0:00:00</td>\n",
       "      <td>0:00:00</td>\n",
       "      <td>0</td>\n",
       "      <td>NO_SERVER</td>\n",
       "      <td>334</td>\n",
       "    </tr>\n",
       "  </tbody>\n",
       "</table>\n",
       "<p>444448 rows × 18 columns</p>\n",
       "</div>"
      ],
      "text/plain": [
       "       vru.line  call_id customer_id  priority type        date vru_entry  \\\n",
       "0        AA0101    33116   9664491.0         2   PS  1999-01-01   0:00:31   \n",
       "1        AA0101    33117         0.0         0   PS  1999-01-01   0:34:12   \n",
       "2        AA0101    33118  27997683.0         2   PS  1999-01-01   6:55:20   \n",
       "3        AA0101    33119         0.0         0   PS  1999-01-01   7:41:16   \n",
       "4        AA0101    33120         0.0         0   PS  1999-01-01   8:03:14   \n",
       "...         ...      ...         ...       ...  ...         ...       ...   \n",
       "444443   AA0216    17211         0.0         0   IN  1999-12-31  13:46:51   \n",
       "444444   AA0216    17212         0.0         0   IN  1999-12-31  13:58:31   \n",
       "444445   AA0216    17213         0.0         0   IN  1999-12-31  17:10:51   \n",
       "444446   AA0216    17214         0.0         0   IN  1999-12-31  18:30:19   \n",
       "444447   AA0216    17215         0.0         0   IN  1999-12-31  22:23:35   \n",
       "\n",
       "        vru_exit  vru_time   q_start    q_exit  q_time outcome ser_start  \\\n",
       "0        0:00:36         5   0:00:36   0:03:09     153    HANG   0:00:00   \n",
       "1        0:34:23        11   0:00:00   0:00:00       0    HANG   0:00:00   \n",
       "2        6:55:26         6   6:55:26   6:55:43      17   AGENT   6:55:43   \n",
       "3        7:41:26        10   0:00:00   0:00:00       0   AGENT   7:41:25   \n",
       "4        8:03:24        10   0:00:00   0:00:00       0   AGENT   8:03:23   \n",
       "...          ...       ...       ...       ...     ...     ...       ...   \n",
       "444443  13:47:04        13   0:00:00   0:00:00       0   AGENT  13:47:03   \n",
       "444444  13:58:40         9  13:58:40  13:59:49      69    HANG   0:00:00   \n",
       "444445  17:11:12        21   0:00:00   0:00:00       0    HANG   0:00:00   \n",
       "444446  18:30:54        35   0:00:00   0:00:00       0    HANG   0:00:00   \n",
       "444447  22:23:45        10   0:00:00   0:00:00       0    HANG   0:00:00   \n",
       "\n",
       "        ser_exit  ser_time     server  startdate  \n",
       "0        0:00:00         0  NO_SERVER          0  \n",
       "1        0:00:00         0  NO_SERVER          0  \n",
       "2        6:56:37        54     MICHAL          0  \n",
       "3        7:44:53       208      BASCH          0  \n",
       "4        8:05:10       107     MICHAL          0  \n",
       "...          ...       ...        ...        ...  \n",
       "444443  13:56:16       553   Z2ELINOR        334  \n",
       "444444   0:00:00         0  NO_SERVER        334  \n",
       "444445   0:00:00         0  NO_SERVER        334  \n",
       "444446   0:00:00         0  NO_SERVER        334  \n",
       "444447   0:00:00         0  NO_SERVER        334  \n",
       "\n",
       "[444448 rows x 18 columns]"
      ]
     },
     "execution_count": 46,
     "metadata": {},
     "output_type": "execute_result"
    }
   ],
   "source": [
    "df = pd.read_csv('Call_Center_1999_DataSet.csv', sep=';')\n",
    "df"
   ]
  },
  {
   "cell_type": "code",
   "execution_count": null,
   "metadata": {},
   "outputs": [],
   "source": [
    "df.info()\n",
    "df.shape"
   ]
  },
  {
   "cell_type": "code",
   "execution_count": null,
   "metadata": {},
   "outputs": [],
   "source": [
    "df.columns"
   ]
  },
  {
   "cell_type": "code",
   "execution_count": null,
   "metadata": {},
   "outputs": [],
   "source": [
    "df.describe()\n"
   ]
  },
  {
   "cell_type": "code",
   "execution_count": 47,
   "metadata": {},
   "outputs": [],
   "source": [
    "# Eliminar la columna 'startdate'\n",
    "df.drop('startdate', axis=1, inplace=True)\n"
   ]
  },
  {
   "cell_type": "code",
   "execution_count": 48,
   "metadata": {},
   "outputs": [],
   "source": [
    "\n",
    "# Eliminar filas donde 'outcome' es igual a 'PHANTOM' o 'type' es igual a 'AA'\n",
    "df = df[(df['outcome'] != 'PHANTOM') & (df['type'] != 'AA')]\n"
   ]
  },
  {
   "cell_type": "code",
   "execution_count": 49,
   "metadata": {},
   "outputs": [
    {
     "name": "stderr",
     "output_type": "stream",
     "text": [
      "C:\\Users\\matia\\AppData\\Local\\Temp\\ipykernel_25368\\2909162857.py:2: SettingWithCopyWarning: \n",
      "A value is trying to be set on a copy of a slice from a DataFrame.\n",
      "Try using .loc[row_indexer,col_indexer] = value instead\n",
      "\n",
      "See the caveats in the documentation: https://pandas.pydata.org/pandas-docs/stable/user_guide/indexing.html#returning-a-view-versus-a-copy\n",
      "  df['type'] = df['type'].str.strip()  # Eliminar espacios en blanco iniciales y finales en 'type'\n",
      "C:\\Users\\matia\\AppData\\Local\\Temp\\ipykernel_25368\\2909162857.py:3: SettingWithCopyWarning: \n",
      "A value is trying to be set on a copy of a slice from a DataFrame\n",
      "\n",
      "See the caveats in the documentation: https://pandas.pydata.org/pandas-docs/stable/user_guide/indexing.html#returning-a-view-versus-a-copy\n",
      "  df['server'].replace({'ANO_SERVERT': 'NO_SERVER', 'NO_SERVERAMA': 'NO_SERVER'}, inplace=True)\n",
      "C:\\Users\\matia\\AppData\\Local\\Temp\\ipykernel_25368\\2909162857.py:4: SettingWithCopyWarning: \n",
      "A value is trying to be set on a copy of a slice from a DataFrame.\n",
      "Try using .loc[row_indexer,col_indexer] = value instead\n",
      "\n",
      "See the caveats in the documentation: https://pandas.pydata.org/pandas-docs/stable/user_guide/indexing.html#returning-a-view-versus-a-copy\n",
      "  df['server'] = df['server'].str.lstrip('Z1Z2')\n"
     ]
    }
   ],
   "source": [
    "\n",
    "# Reemplazar valores en las columnas 'type' y 'server'\n",
    "df['type'] = df['type'].str.strip()  # Eliminar espacios en blanco iniciales y finales en 'type'\n",
    "df['server'].replace({'ANO_SERVERT': 'NO_SERVER', 'NO_SERVERAMA': 'NO_SERVER'}, inplace=True)\n",
    "df['server'] = df['server'].str.lstrip('Z1Z2')\n"
   ]
  },
  {
   "cell_type": "code",
   "execution_count": 50,
   "metadata": {},
   "outputs": [
    {
     "name": "stdout",
     "output_type": "stream",
     "text": [
      "['NO_SERVER' 'MICHAL' 'BASCH' 'KAZAV' 'VICKY' 'YITZ' 'SHARON' 'MORIAH'\n",
      " 'OHARI' 'AVNI' 'PINHAS' 'GILI' 'TALI' 'YIFAT' 'LORI' 'TOVA' 'ELI' 'MIKI'\n",
      " 'NAAMA' 'ANAT' 'IDIT' 'DORIT' 'SHLOMO' 'BENSION' 'GELBER' 'AVIDAN'\n",
      " 'DARMON' 'EXPRESS' 'DAVID' 'STEREN' 'ROTH' 'AVI' 'MEIR' 'GOLDIE' 'LIOR'\n",
      " 'OFER' 'IFAT' 'EYAL' 'ARIE' 'NIRIT' 'ELINOR' 'OFERZ' 'IPI' 'SPIEGEL'\n",
      " 'ASAF' 'BRUHI' 'MOTI' 'ASSAF' 'MOSHE']\n"
     ]
    }
   ],
   "source": [
    "# Mostrar valores únicos en la columna 'server'\n",
    "unique_servers = df['server'].unique()\n",
    "\n",
    "# Imprimir los valores únicos\n",
    "print(unique_servers)\n"
   ]
  },
  {
   "cell_type": "code",
   "execution_count": null,
   "metadata": {},
   "outputs": [],
   "source": []
  },
  {
   "cell_type": "code",
   "execution_count": null,
   "metadata": {},
   "outputs": [],
   "source": [
    "'''\n",
    "# Convertir 'customer_id' a tipo 'string'\n",
    "df['customer_id'] = df['customer_id'].astype('string')\n",
    "customer_id_auxiliar = df['customer_id'].str.replace('.', '',)\n",
    "# customer_id_auxiliar = df['customer_id']\n",
    "\n",
    "# Iterar sobre las filas\n",
    "for i, valor in enumerate(customer_id_auxiliar):\n",
    "    # Verificar si la longitud es mayor a 12\n",
    "    if len(valor) > 12:\n",
    "        # Truncar a los primeros 12 caracteres\n",
    "        primeros_12_caracteres = valor[:12]\n",
    "        # Actualizar el valor en customer_id_auxiliar\n",
    "        customer_id_auxiliar.iloc[i] = primeros_12_caracteres\n",
    "\n",
    "# Verificar los cambios en customer_id_auxiliar\n",
    "print(customer_id_auxiliar.head())\n",
    "\n",
    "df['customer_id'] = customer_id_auxiliar\n",
    "df['customer_id'] = df['customer_id'].str[:12]\n",
    "\n",
    "customer_id_lista = df['customer_id'].str[:12].tolist()\n",
    "df['customer_id_nueva'] = customer_id_lista\n",
    "'''\n",
    "\n",
    "'''\n",
    "df['customer_id'] = df['customer_id'].replace('.', '', regex=False)\n",
    "df['customer_id'] = df['customer_id'].replace('+', '', regex=False)\n",
    "df['customer_id'] = df['customer_id'].str[:12]\n",
    "df['customer_id'] = pd.to_numeric(df['customer_id'], errors='coerce')\n",
    "\n",
    "# Lidiar con valores no finitos (por ejemplo, reemplazar NaN con un valor específico)\n",
    "df['customer_id'].fillna(valor_especifico, inplace=True)\n",
    "\n",
    "# Convertir 'customer_id' a tipo entero\n",
    "df['customer_id'] = df['customer_id'].astype(int)\n",
    "df['customer_id'] = df['customer_id'].astype(float).astype(int)\n",
    "\n",
    "# Eliminar caracteres \"0\" desde la derecha en customer_id\n",
    "df['customer_id'] = df['customer_id'].apply(lambda x: str(int(float(x))) if '.' in x else x)\n",
    "'''"
   ]
  },
  {
   "cell_type": "code",
   "execution_count": null,
   "metadata": {},
   "outputs": [],
   "source": []
  },
  {
   "cell_type": "code",
   "execution_count": null,
   "metadata": {},
   "outputs": [],
   "source": [
    "\n",
    "df['customer_id'] = df['customer_id'].astype('string')\n",
    "customer_id_auxiliar = df['customer_id'].str.replace('.', '') #, regex=False).str[:12].tolist()\n",
    "df['customer_id'] = customer_id_auxiliar\n",
    "df['customer_id'] = df['customer_id'].astype('string')\n",
    "df['customer_id'] = df['customer_id'].str[:12]\n"
   ]
  },
  {
   "cell_type": "code",
   "execution_count": 51,
   "metadata": {},
   "outputs": [
    {
     "name": "stdout",
     "output_type": "stream",
     "text": [
      "        priority priority_level\n",
      "0              2           HIGH\n",
      "1              0        REGULAR\n",
      "2              2           HIGH\n",
      "3              0        REGULAR\n",
      "4              0        REGULAR\n",
      "...          ...            ...\n",
      "444443         0        REGULAR\n",
      "444444         0        REGULAR\n",
      "444445         0        REGULAR\n",
      "444446         0        REGULAR\n",
      "444447         0        REGULAR\n",
      "\n",
      "[440844 rows x 2 columns]\n"
     ]
    },
    {
     "name": "stderr",
     "output_type": "stream",
     "text": [
      "C:\\Users\\matia\\AppData\\Local\\Temp\\ipykernel_25368\\1690419475.py:10: SettingWithCopyWarning: \n",
      "A value is trying to be set on a copy of a slice from a DataFrame.\n",
      "Try using .loc[row_indexer,col_indexer] = value instead\n",
      "\n",
      "See the caveats in the documentation: https://pandas.pydata.org/pandas-docs/stable/user_guide/indexing.html#returning-a-view-versus-a-copy\n",
      "  df['priority_level'] = df['priority'].apply(assign_priority_level)\n"
     ]
    }
   ],
   "source": [
    "# Definir una función para asignar niveles de prioridad\n",
    "def assign_priority_level(priority):\n",
    "    if priority in [0, 1]:\n",
    "        return \"REGULAR\"\n",
    "    elif priority == 2:\n",
    "        return \"HIGH\"\n",
    "    \n",
    "\n",
    "# Aplicar la función a la columna 'priority' para crear 'priority_level'\n",
    "df['priority_level'] = df['priority'].apply(assign_priority_level)\n",
    "\n",
    "# Verificar los cambios en el DataFrame\n",
    "print(df[['priority', 'priority_level']])\n"
   ]
  },
  {
   "cell_type": "code",
   "execution_count": 52,
   "metadata": {},
   "outputs": [
    {
     "name": "stdout",
     "output_type": "stream",
     "text": [
      "<class 'pandas.core.frame.DataFrame'>\n",
      "Index: 440844 entries, 0 to 444447\n",
      "Data columns (total 18 columns):\n",
      " #   Column          Non-Null Count   Dtype \n",
      "---  ------          --------------   ----- \n",
      " 0   vru.line        440844 non-null  object\n",
      " 1   call_id         440844 non-null  int64 \n",
      " 2   customer_id     440844 non-null  object\n",
      " 3   priority        440844 non-null  int64 \n",
      " 4   type            440844 non-null  object\n",
      " 5   date            440844 non-null  object\n",
      " 6   vru_entry       440844 non-null  object\n",
      " 7   vru_exit        440844 non-null  object\n",
      " 8   vru_time        440844 non-null  int64 \n",
      " 9   q_start         440844 non-null  object\n",
      " 10  q_exit          440844 non-null  object\n",
      " 11  q_time          440844 non-null  int64 \n",
      " 12  outcome         440844 non-null  object\n",
      " 13  ser_start       440844 non-null  object\n",
      " 14  ser_exit        440844 non-null  object\n",
      " 15  ser_time        440844 non-null  int64 \n",
      " 16  server          440844 non-null  object\n",
      " 17  priority_level  440844 non-null  object\n",
      "dtypes: int64(5), object(13)\n",
      "memory usage: 63.9+ MB\n"
     ]
    }
   ],
   "source": [
    "df.info()"
   ]
  },
  {
   "cell_type": "code",
   "execution_count": null,
   "metadata": {},
   "outputs": [],
   "source": [
    "\n"
   ]
  },
  {
   "cell_type": "code",
   "execution_count": 53,
   "metadata": {},
   "outputs": [
    {
     "name": "stderr",
     "output_type": "stream",
     "text": [
      "C:\\Users\\matia\\AppData\\Local\\Temp\\ipykernel_25368\\3309599796.py:2: SettingWithCopyWarning: \n",
      "A value is trying to be set on a copy of a slice from a DataFrame.\n",
      "Try using .loc[row_indexer,col_indexer] = value instead\n",
      "\n",
      "See the caveats in the documentation: https://pandas.pydata.org/pandas-docs/stable/user_guide/indexing.html#returning-a-view-versus-a-copy\n",
      "  df['vru.line'] = df['vru.line'].astype('string')\n",
      "C:\\Users\\matia\\AppData\\Local\\Temp\\ipykernel_25368\\3309599796.py:3: SettingWithCopyWarning: \n",
      "A value is trying to be set on a copy of a slice from a DataFrame.\n",
      "Try using .loc[row_indexer,col_indexer] = value instead\n",
      "\n",
      "See the caveats in the documentation: https://pandas.pydata.org/pandas-docs/stable/user_guide/indexing.html#returning-a-view-versus-a-copy\n",
      "  df['call_id'] = df['call_id'].astype('string')\n",
      "C:\\Users\\matia\\AppData\\Local\\Temp\\ipykernel_25368\\3309599796.py:4: SettingWithCopyWarning: \n",
      "A value is trying to be set on a copy of a slice from a DataFrame.\n",
      "Try using .loc[row_indexer,col_indexer] = value instead\n",
      "\n",
      "See the caveats in the documentation: https://pandas.pydata.org/pandas-docs/stable/user_guide/indexing.html#returning-a-view-versus-a-copy\n",
      "  df['priority'] = df['priority'].astype('category')\n",
      "C:\\Users\\matia\\AppData\\Local\\Temp\\ipykernel_25368\\3309599796.py:5: SettingWithCopyWarning: \n",
      "A value is trying to be set on a copy of a slice from a DataFrame.\n",
      "Try using .loc[row_indexer,col_indexer] = value instead\n",
      "\n",
      "See the caveats in the documentation: https://pandas.pydata.org/pandas-docs/stable/user_guide/indexing.html#returning-a-view-versus-a-copy\n",
      "  df['type'] = df['type'].astype('category')\n",
      "C:\\Users\\matia\\AppData\\Local\\Temp\\ipykernel_25368\\3309599796.py:6: SettingWithCopyWarning: \n",
      "A value is trying to be set on a copy of a slice from a DataFrame.\n",
      "Try using .loc[row_indexer,col_indexer] = value instead\n",
      "\n",
      "See the caveats in the documentation: https://pandas.pydata.org/pandas-docs/stable/user_guide/indexing.html#returning-a-view-versus-a-copy\n",
      "  df['date'] = pd.to_datetime(df['date'])\n",
      "C:\\Users\\matia\\AppData\\Local\\Temp\\ipykernel_25368\\3309599796.py:7: SettingWithCopyWarning: \n",
      "A value is trying to be set on a copy of a slice from a DataFrame.\n",
      "Try using .loc[row_indexer,col_indexer] = value instead\n",
      "\n",
      "See the caveats in the documentation: https://pandas.pydata.org/pandas-docs/stable/user_guide/indexing.html#returning-a-view-versus-a-copy\n",
      "  df['vru_entry'] = pd.to_datetime(df['vru_entry'], format='%H:%M:%S').dt.time\n",
      "C:\\Users\\matia\\AppData\\Local\\Temp\\ipykernel_25368\\3309599796.py:8: SettingWithCopyWarning: \n",
      "A value is trying to be set on a copy of a slice from a DataFrame.\n",
      "Try using .loc[row_indexer,col_indexer] = value instead\n",
      "\n",
      "See the caveats in the documentation: https://pandas.pydata.org/pandas-docs/stable/user_guide/indexing.html#returning-a-view-versus-a-copy\n",
      "  df['vru_exit'] = pd.to_datetime(df['vru_exit'], format='%H:%M:%S').dt.time\n",
      "C:\\Users\\matia\\AppData\\Local\\Temp\\ipykernel_25368\\3309599796.py:9: SettingWithCopyWarning: \n",
      "A value is trying to be set on a copy of a slice from a DataFrame.\n",
      "Try using .loc[row_indexer,col_indexer] = value instead\n",
      "\n",
      "See the caveats in the documentation: https://pandas.pydata.org/pandas-docs/stable/user_guide/indexing.html#returning-a-view-versus-a-copy\n",
      "  df['q_start'] = pd.to_datetime(df['q_start'], format='%H:%M:%S').dt.time\n",
      "C:\\Users\\matia\\AppData\\Local\\Temp\\ipykernel_25368\\3309599796.py:10: SettingWithCopyWarning: \n",
      "A value is trying to be set on a copy of a slice from a DataFrame.\n",
      "Try using .loc[row_indexer,col_indexer] = value instead\n",
      "\n",
      "See the caveats in the documentation: https://pandas.pydata.org/pandas-docs/stable/user_guide/indexing.html#returning-a-view-versus-a-copy\n",
      "  df['q_exit'] = pd.to_datetime(df['q_exit'], format='%H:%M:%S').dt.time\n",
      "C:\\Users\\matia\\AppData\\Local\\Temp\\ipykernel_25368\\3309599796.py:11: SettingWithCopyWarning: \n",
      "A value is trying to be set on a copy of a slice from a DataFrame.\n",
      "Try using .loc[row_indexer,col_indexer] = value instead\n",
      "\n",
      "See the caveats in the documentation: https://pandas.pydata.org/pandas-docs/stable/user_guide/indexing.html#returning-a-view-versus-a-copy\n",
      "  df['outcome'] = df['outcome'].astype('category')\n",
      "C:\\Users\\matia\\AppData\\Local\\Temp\\ipykernel_25368\\3309599796.py:12: SettingWithCopyWarning: \n",
      "A value is trying to be set on a copy of a slice from a DataFrame.\n",
      "Try using .loc[row_indexer,col_indexer] = value instead\n",
      "\n",
      "See the caveats in the documentation: https://pandas.pydata.org/pandas-docs/stable/user_guide/indexing.html#returning-a-view-versus-a-copy\n",
      "  df['ser_start'] = pd.to_datetime(df['ser_start'], format='%H:%M:%S').dt.time\n",
      "C:\\Users\\matia\\AppData\\Local\\Temp\\ipykernel_25368\\3309599796.py:13: SettingWithCopyWarning: \n",
      "A value is trying to be set on a copy of a slice from a DataFrame.\n",
      "Try using .loc[row_indexer,col_indexer] = value instead\n",
      "\n",
      "See the caveats in the documentation: https://pandas.pydata.org/pandas-docs/stable/user_guide/indexing.html#returning-a-view-versus-a-copy\n",
      "  df['ser_exit'] = pd.to_datetime(df['ser_exit'], format='%H:%M:%S').dt.time\n",
      "C:\\Users\\matia\\AppData\\Local\\Temp\\ipykernel_25368\\3309599796.py:14: SettingWithCopyWarning: \n",
      "A value is trying to be set on a copy of a slice from a DataFrame.\n",
      "Try using .loc[row_indexer,col_indexer] = value instead\n",
      "\n",
      "See the caveats in the documentation: https://pandas.pydata.org/pandas-docs/stable/user_guide/indexing.html#returning-a-view-versus-a-copy\n",
      "  df['server'] = df['server'].astype('category')\n",
      "C:\\Users\\matia\\AppData\\Local\\Temp\\ipykernel_25368\\3309599796.py:15: SettingWithCopyWarning: \n",
      "A value is trying to be set on a copy of a slice from a DataFrame.\n",
      "Try using .loc[row_indexer,col_indexer] = value instead\n",
      "\n",
      "See the caveats in the documentation: https://pandas.pydata.org/pandas-docs/stable/user_guide/indexing.html#returning-a-view-versus-a-copy\n",
      "  df['priority_level'] = df['server'].astype('category')\n"
     ]
    }
   ],
   "source": [
    "# Cambiar tipos de datos\n",
    "df['vru.line'] = df['vru.line'].astype('string')\n",
    "df['call_id'] = df['call_id'].astype('string')\n",
    "df['priority'] = df['priority'].astype('category')\n",
    "df['type'] = df['type'].astype('category')\n",
    "df['date'] = pd.to_datetime(df['date'])\n",
    "df['vru_entry'] = pd.to_datetime(df['vru_entry'], format='%H:%M:%S').dt.time\n",
    "df['vru_exit'] = pd.to_datetime(df['vru_exit'], format='%H:%M:%S').dt.time\n",
    "df['q_start'] = pd.to_datetime(df['q_start'], format='%H:%M:%S').dt.time\n",
    "df['q_exit'] = pd.to_datetime(df['q_exit'], format='%H:%M:%S').dt.time\n",
    "df['outcome'] = df['outcome'].astype('category')\n",
    "df['ser_start'] = pd.to_datetime(df['ser_start'], format='%H:%M:%S').dt.time\n",
    "df['ser_exit'] = pd.to_datetime(df['ser_exit'], format='%H:%M:%S').dt.time\n",
    "df['server'] = df['server'].astype('category')\n",
    "df['priority_level'] = df['server'].astype('category')"
   ]
  },
  {
   "cell_type": "code",
   "execution_count": 54,
   "metadata": {},
   "outputs": [
    {
     "data": {
      "text/plain": [
       "vru.line          string[python]\n",
       "call_id           string[python]\n",
       "customer_id               object\n",
       "priority                category\n",
       "type                    category\n",
       "date              datetime64[ns]\n",
       "vru_entry                 object\n",
       "vru_exit                  object\n",
       "vru_time                   int64\n",
       "q_start                   object\n",
       "q_exit                    object\n",
       "q_time                     int64\n",
       "outcome                 category\n",
       "ser_start                 object\n",
       "ser_exit                  object\n",
       "ser_time                   int64\n",
       "server                  category\n",
       "priority_level          category\n",
       "dtype: object"
      ]
     },
     "execution_count": 54,
     "metadata": {},
     "output_type": "execute_result"
    }
   ],
   "source": [
    "# Verificar los cambios\n",
    "df.dtypes"
   ]
  },
  {
   "cell_type": "code",
   "execution_count": null,
   "metadata": {},
   "outputs": [],
   "source": [
    "df.head()"
   ]
  },
  {
   "cell_type": "code",
   "execution_count": 55,
   "metadata": {},
   "outputs": [
    {
     "name": "stderr",
     "output_type": "stream",
     "text": [
      "C:\\Users\\matia\\AppData\\Local\\Temp\\ipykernel_25368\\2492129406.py:2: SettingWithCopyWarning: \n",
      "A value is trying to be set on a copy of a slice from a DataFrame.\n",
      "Try using .loc[row_indexer,col_indexer] = value instead\n",
      "\n",
      "See the caveats in the documentation: https://pandas.pydata.org/pandas-docs/stable/user_guide/indexing.html#returning-a-view-versus-a-copy\n",
      "  df['call_id'] = df['vru.line'] + '-' + df['call_id']\n"
     ]
    }
   ],
   "source": [
    "# Concatenar vru.line y call_id con un guion en el medio y reemplazar valores en call_id\n",
    "df['call_id'] = df['vru.line'] + '-' + df['call_id']\n"
   ]
  },
  {
   "cell_type": "code",
   "execution_count": null,
   "metadata": {},
   "outputs": [],
   "source": [
    "df.head()"
   ]
  },
  {
   "cell_type": "code",
   "execution_count": 56,
   "metadata": {},
   "outputs": [
    {
     "name": "stderr",
     "output_type": "stream",
     "text": [
      "C:\\Users\\matia\\AppData\\Local\\Temp\\ipykernel_25368\\4141965220.py:2: SettingWithCopyWarning: \n",
      "A value is trying to be set on a copy of a slice from a DataFrame\n",
      "\n",
      "See the caveats in the documentation: https://pandas.pydata.org/pandas-docs/stable/user_guide/indexing.html#returning-a-view-versus-a-copy\n",
      "  df.rename(columns={'vru_entry': 'vru_start'}, inplace=True)\n"
     ]
    }
   ],
   "source": [
    "# Renombrar la columna vru_entry a vru_start\n",
    "df.rename(columns={'vru_entry': 'vru_start'}, inplace=True)\n",
    "\n",
    "# Intercambiar valores en vru_start y vru_exit si vru_start > vru_exit\n",
    "mask = df['vru_start'] > df['vru_exit']\n",
    "df.loc[mask, ['vru_start', 'vru_exit']] = df.loc[mask, ['vru_exit', 'vru_start']].values"
   ]
  },
  {
   "cell_type": "code",
   "execution_count": null,
   "metadata": {},
   "outputs": [],
   "source": [
    "df.info()"
   ]
  },
  {
   "cell_type": "code",
   "execution_count": null,
   "metadata": {},
   "outputs": [],
   "source": [
    "\n"
   ]
  },
  {
   "cell_type": "code",
   "execution_count": 57,
   "metadata": {},
   "outputs": [
    {
     "name": "stdout",
     "output_type": "stream",
     "text": [
      "       ser_start  ser_exit outcome\n",
      "712     00:00:00  00:00:00   AGENT\n",
      "2193    00:00:00  00:00:00   AGENT\n",
      "3095    00:00:00  00:00:00   AGENT\n",
      "3097    00:00:00  00:00:00   AGENT\n",
      "3283    00:00:00  00:00:00   AGENT\n",
      "...          ...       ...     ...\n",
      "441774  00:00:00  00:00:00   AGENT\n",
      "442737  00:00:00  00:00:00   AGENT\n",
      "443388  00:00:00  00:00:00   AGENT\n",
      "443943  00:00:00  00:00:00   AGENT\n",
      "443973  00:00:00  00:00:00   AGENT\n",
      "\n",
      "[553 rows x 3 columns]\n"
     ]
    }
   ],
   "source": [
    "# Filtrar las filas donde ser_start y ser_exit son '00:00:00'\n",
    "filtered_rows = df[(df['ser_start'].astype(str) == '00:00:00') & (df['ser_exit'].astype(str) == '00:00:00') & (df['outcome'] == 'AGENT')]\n",
    "\n",
    "# Mostrar las columnas ser_start, ser_exit y outcome para las filas filtradas\n",
    "result = filtered_rows[['ser_start', 'ser_exit', 'outcome']]\n",
    "\n",
    "# Imprimir el resultado\n",
    "print(result)"
   ]
  },
  {
   "cell_type": "code",
   "execution_count": 58,
   "metadata": {},
   "outputs": [
    {
     "name": "stdout",
     "output_type": "stream",
     "text": [
      "  vru.line       call_id customer_id priority type       date vru_start  \\\n",
      "0   AA0101  AA0101-33116   9664491.0        2   PS 1999-01-01  00:00:31   \n",
      "1   AA0101  AA0101-33117         0.0        0   PS 1999-01-01  00:34:12   \n",
      "2   AA0101  AA0101-33118  27997683.0        2   PS 1999-01-01  06:55:20   \n",
      "3   AA0101  AA0101-33119         0.0        0   PS 1999-01-01  07:41:16   \n",
      "4   AA0101  AA0101-33120         0.0        0   PS 1999-01-01  08:03:14   \n",
      "\n",
      "   vru_exit  vru_time   q_start    q_exit  q_time outcome ser_start  ser_exit  \\\n",
      "0  00:00:36         5  00:00:36  00:03:09     153    HANG  00:00:00  00:00:00   \n",
      "1  00:34:23        11  00:00:00  00:00:00       0    HANG  00:00:00  00:00:00   \n",
      "2  06:55:26         6  06:55:26  06:55:43      17   AGENT  06:55:43  06:56:37   \n",
      "3  07:41:26        10  00:00:00  00:00:00       0   AGENT  07:41:25  07:44:53   \n",
      "4  08:03:24        10  00:00:00  00:00:00       0   AGENT  08:03:23  08:05:10   \n",
      "\n",
      "   ser_time     server priority_level  \n",
      "0         0  NO_SERVER      NO_SERVER  \n",
      "1         0  NO_SERVER      NO_SERVER  \n",
      "2        54     MICHAL         MICHAL  \n",
      "3       208      BASCH          BASCH  \n",
      "4       107     MICHAL         MICHAL  \n"
     ]
    }
   ],
   "source": [
    "# Suponiendo que ser_start y ser_exit son de tipo datetime.time\n",
    "mask = (df['ser_start'].apply(lambda x: x.strftime('%H:%M:%S')) == '00:00:00') & (df['ser_exit'].apply(lambda x: x.strftime('%H:%M:%S')) == '00:00:00')\n",
    "\n",
    "# Asignar 'HANG' a la columna outcome en las filas que cumplen la condición\n",
    "df.loc[mask, 'outcome'] = 'HANG'\n",
    "\n",
    "# Verificar los cambios\n",
    "print(df.head())\n"
   ]
  },
  {
   "cell_type": "code",
   "execution_count": 59,
   "metadata": {},
   "outputs": [
    {
     "name": "stdout",
     "output_type": "stream",
     "text": [
      "Empty DataFrame\n",
      "Columns: [ser_start, ser_exit, outcome]\n",
      "Index: []\n"
     ]
    }
   ],
   "source": [
    "# Filtrar las filas donde ser_start y ser_exit son '00:00:00'\n",
    "filtered_rows = df[(df['ser_start'].astype(str) == '00:00:00') & (df['ser_exit'].astype(str) == '00:00:00') & (df['outcome'] == 'AGENT')]\n",
    "\n",
    "# Mostrar las columnas ser_start, ser_exit y outcome para las filas filtradas\n",
    "result = filtered_rows[['ser_start', 'ser_exit', 'outcome']]\n",
    "\n",
    "# Imprimir el resultado\n",
    "print(result)"
   ]
  },
  {
   "cell_type": "code",
   "execution_count": null,
   "metadata": {},
   "outputs": [],
   "source": []
  },
  {
   "cell_type": "code",
   "execution_count": null,
   "metadata": {},
   "outputs": [],
   "source": [
    "df.info()"
   ]
  },
  {
   "cell_type": "code",
   "execution_count": null,
   "metadata": {},
   "outputs": [],
   "source": []
  },
  {
   "cell_type": "code",
   "execution_count": null,
   "metadata": {},
   "outputs": [],
   "source": []
  },
  {
   "cell_type": "code",
   "execution_count": 60,
   "metadata": {},
   "outputs": [],
   "source": [
    "df2 = df"
   ]
  },
  {
   "cell_type": "code",
   "execution_count": null,
   "metadata": {},
   "outputs": [],
   "source": [
    "#df = df2"
   ]
  },
  {
   "cell_type": "code",
   "execution_count": null,
   "metadata": {},
   "outputs": [],
   "source": []
  },
  {
   "cell_type": "code",
   "execution_count": 61,
   "metadata": {},
   "outputs": [
    {
     "name": "stderr",
     "output_type": "stream",
     "text": [
      "C:\\Users\\matia\\AppData\\Local\\Temp\\ipykernel_25368\\1475664991.py:4: SettingWithCopyWarning: \n",
      "A value is trying to be set on a copy of a slice from a DataFrame.\n",
      "Try using .loc[row_indexer,col_indexer] = value instead\n",
      "\n",
      "See the caveats in the documentation: https://pandas.pydata.org/pandas-docs/stable/user_guide/indexing.html#returning-a-view-versus-a-copy\n",
      "  df['vru_time_calc'] = (df.apply(lambda row: (datetime.combine(datetime.min, row['vru_exit']) - datetime.combine(datetime.min, row['vru_start'])).total_seconds(), axis=1))\n"
     ]
    },
    {
     "data": {
      "text/plain": [
       "\" \\n\\n# Aplicar el cálculo de diferencia de tiempo a todas las filas\\ndf['q_time_calc'] = df.apply(lambda row: (datetime.combine(datetime.min, row['q_exit']) - datetime.combine(datetime.min, row['q_start'])).total_seconds(), axis=1)\\n\\n# Verificar los cambios en el DataFrame\\nprint(df[['q_start', 'q_exit', 'q_time_calc']])\\n\\n\\n\\n# Aplicar el cálculo de diferencia de tiempo a todas las filas\\ndf['ser_time_calc'] = df.apply(lambda row: (datetime.combine(datetime.min, row['ser_exit']) - datetime.combine(datetime.min, row['ser_start'])).total_seconds(), axis=1)\\n\\n# Verificar los cambios en el DataFrame\\nprint(df[['ser_start', 'ser_exit', 'ser_time_calc']])\\n\\n\""
      ]
     },
     "execution_count": 61,
     "metadata": {},
     "output_type": "execute_result"
    }
   ],
   "source": [
    "\n",
    "#from datetime import datetime\n",
    "\n",
    "# Aplicar el cálculo de diferencia de tiempo a todas las filas\n",
    "df['vru_time_calc'] = (df.apply(lambda row: (datetime.combine(datetime.min, row['vru_exit']) - datetime.combine(datetime.min, row['vru_start'])).total_seconds(), axis=1))\n",
    "\n",
    "# Verificar los cambios en el DataFrame\n",
    "# print(df[['vru_start', 'vru_exit', 'vru_time_calc']])\n",
    "\n",
    "''' \n",
    "\n",
    "# Aplicar el cálculo de diferencia de tiempo a todas las filas\n",
    "df['q_time_calc'] = df.apply(lambda row: (datetime.combine(datetime.min, row['q_exit']) - datetime.combine(datetime.min, row['q_start'])).total_seconds(), axis=1)\n",
    "\n",
    "# Verificar los cambios en el DataFrame\n",
    "print(df[['q_start', 'q_exit', 'q_time_calc']])\n",
    "\n",
    "\n",
    "\n",
    "# Aplicar el cálculo de diferencia de tiempo a todas las filas\n",
    "df['ser_time_calc'] = df.apply(lambda row: (datetime.combine(datetime.min, row['ser_exit']) - datetime.combine(datetime.min, row['ser_start'])).total_seconds(), axis=1)\n",
    "\n",
    "# Verificar los cambios en el DataFrame\n",
    "print(df[['ser_start', 'ser_exit', 'ser_time_calc']])\n",
    "\n",
    "'''"
   ]
  },
  {
   "cell_type": "code",
   "execution_count": null,
   "metadata": {},
   "outputs": [],
   "source": []
  },
  {
   "cell_type": "code",
   "execution_count": null,
   "metadata": {},
   "outputs": [],
   "source": [
    "'''\n",
    "# Función personalizada para calcular la diferencia de tiempo bajo condiciones\n",
    "def calcular_diferencia(row):\n",
    "    if row['vru_start'] <= row['vru_exit']:\n",
    "        return ((datetime.combine(datetime.min, row['vru_exit']) - datetime.combine(datetime.min, row['vru_start'])).total_seconds())/10\n",
    "    else:\n",
    "        return (864000 + (datetime.combine(datetime.min, row['vru_exit']) - datetime.combine(datetime.min, row['vru_start'])).total_seconds()) / 10\n",
    "\n",
    "# Aplicar la función a todas las filas\n",
    "df['vru_time_calc'] = df.apply(calcular_diferencia, axis=1)\n",
    "\n",
    "\n",
    "# Verificar los cambios en el DataFrame\n",
    "print(df[['vru_start', 'vru_exit', 'vru_time_calc']])\n",
    "'''"
   ]
  },
  {
   "cell_type": "code",
   "execution_count": 62,
   "metadata": {},
   "outputs": [
    {
     "name": "stderr",
     "output_type": "stream",
     "text": [
      "C:\\Users\\matia\\AppData\\Local\\Temp\\ipykernel_25368\\363305223.py:9: SettingWithCopyWarning: \n",
      "A value is trying to be set on a copy of a slice from a DataFrame.\n",
      "Try using .loc[row_indexer,col_indexer] = value instead\n",
      "\n",
      "See the caveats in the documentation: https://pandas.pydata.org/pandas-docs/stable/user_guide/indexing.html#returning-a-view-versus-a-copy\n",
      "  df['q_time_calc'] = df.apply(calcular_diferencia, axis=1)\n",
      "C:\\Users\\matia\\AppData\\Local\\Temp\\ipykernel_25368\\363305223.py:15: SettingWithCopyWarning: \n",
      "A value is trying to be set on a copy of a slice from a DataFrame.\n",
      "Try using .loc[row_indexer,col_indexer] = value instead\n",
      "\n",
      "See the caveats in the documentation: https://pandas.pydata.org/pandas-docs/stable/user_guide/indexing.html#returning-a-view-versus-a-copy\n",
      "  df['q_time_calc'] = df['q_time_calc'].apply(lambda x: max(x, 0))\n"
     ]
    },
    {
     "data": {
      "text/plain": [
       "\"\\n# Aplicar cambios adicionales según tu condición\\n#df.loc[df['q_start'] > df['q_exit'], 'q_time_calc'] = 86400 - df['q_time_calc']\\n\\n# Verificar los cambios en el DataFrame\\nprint(df[['q_start', 'q_exit', 'q_time_calc']])\\n\""
      ]
     },
     "execution_count": 62,
     "metadata": {},
     "output_type": "execute_result"
    }
   ],
   "source": [
    "\n",
    "# Función personalizada para calcular la diferencia de tiempo bajo condiciones\n",
    "def calcular_diferencia(row):\n",
    "    if row['q_start'] <= row['q_exit']:\n",
    "        return ((datetime.combine(datetime.min, row['q_exit']) - datetime.combine(datetime.min, row['q_start'])).total_seconds())\n",
    "    else:\n",
    "        return ((datetime.combine(datetime.min, row['q_exit']) - datetime.combine(datetime.min, row['q_start'])).total_seconds() + 86400)\n",
    "\n",
    "# Aplicar la función a todas las filas\n",
    "df['q_time_calc'] = df.apply(calcular_diferencia, axis=1)\n",
    "\n",
    "# Restar 150 a 'q_time_calc' para registros con 'priority' igual a 2\n",
    "df.loc[df['priority'] == 2, 'q_time_calc'] -= 90\n",
    "\n",
    "# Establecer un límite mínimo de 0 para 'q_time_calc'\n",
    "df['q_time_calc'] = df['q_time_calc'].apply(lambda x: max(x, 0))\n",
    "\n",
    "\n",
    "'''\n",
    "# Aplicar cambios adicionales según tu condición\n",
    "#df.loc[df['q_start'] > df['q_exit'], 'q_time_calc'] = 86400 - df['q_time_calc']\n",
    "\n",
    "# Verificar los cambios en el DataFrame\n",
    "print(df[['q_start', 'q_exit', 'q_time_calc']])\n",
    "'''"
   ]
  },
  {
   "cell_type": "code",
   "execution_count": 63,
   "metadata": {},
   "outputs": [
    {
     "name": "stderr",
     "output_type": "stream",
     "text": [
      "C:\\Users\\matia\\AppData\\Local\\Temp\\ipykernel_25368\\4211033610.py:9: SettingWithCopyWarning: \n",
      "A value is trying to be set on a copy of a slice from a DataFrame.\n",
      "Try using .loc[row_indexer,col_indexer] = value instead\n",
      "\n",
      "See the caveats in the documentation: https://pandas.pydata.org/pandas-docs/stable/user_guide/indexing.html#returning-a-view-versus-a-copy\n",
      "  df['ser_time_calc'] = df.apply(calcular_diferencia, axis=1)\n"
     ]
    }
   ],
   "source": [
    "# Función personalizada para calcular la diferencia de tiempo bajo condiciones\n",
    "def calcular_diferencia(row):\n",
    "    if row['ser_start'] <= row['ser_exit']:\n",
    "        return ((datetime.combine(datetime.min, row['ser_exit']) - datetime.combine(datetime.min, row['ser_start'])).total_seconds())\n",
    "    else:\n",
    "        return ((datetime.combine(datetime.min, row['ser_exit']) - datetime.combine(datetime.min, row['ser_start'])).total_seconds() + 86400)\n",
    "\n",
    "# Aplicar la función a todas las filas\n",
    "df['ser_time_calc'] = df.apply(calcular_diferencia, axis=1)\n",
    "\n",
    "\n",
    "# Verificar los cambios en el DataFrame\n",
    "# print(df[['ser_start', 'ser_exit', 'ser_time_calc']])\n",
    "\n"
   ]
  },
  {
   "cell_type": "code",
   "execution_count": null,
   "metadata": {},
   "outputs": [],
   "source": []
  },
  {
   "cell_type": "code",
   "execution_count": null,
   "metadata": {},
   "outputs": [],
   "source": [
    "\n",
    "\n"
   ]
  },
  {
   "cell_type": "code",
   "execution_count": 64,
   "metadata": {},
   "outputs": [
    {
     "name": "stderr",
     "output_type": "stream",
     "text": [
      "C:\\Users\\matia\\AppData\\Local\\Temp\\ipykernel_25368\\2475064759.py:1: SettingWithCopyWarning: \n",
      "A value is trying to be set on a copy of a slice from a DataFrame.\n",
      "Try using .loc[row_indexer,col_indexer] = value instead\n",
      "\n",
      "See the caveats in the documentation: https://pandas.pydata.org/pandas-docs/stable/user_guide/indexing.html#returning-a-view-versus-a-copy\n",
      "  df['q_time_calc'] = df['q_time_calc'].astype('int')\n",
      "C:\\Users\\matia\\AppData\\Local\\Temp\\ipykernel_25368\\2475064759.py:3: SettingWithCopyWarning: \n",
      "A value is trying to be set on a copy of a slice from a DataFrame.\n",
      "Try using .loc[row_indexer,col_indexer] = value instead\n",
      "\n",
      "See the caveats in the documentation: https://pandas.pydata.org/pandas-docs/stable/user_guide/indexing.html#returning-a-view-versus-a-copy\n",
      "  df['vru_time_calc'] = df['vru_time_calc'].astype('int')\n",
      "C:\\Users\\matia\\AppData\\Local\\Temp\\ipykernel_25368\\2475064759.py:5: SettingWithCopyWarning: \n",
      "A value is trying to be set on a copy of a slice from a DataFrame.\n",
      "Try using .loc[row_indexer,col_indexer] = value instead\n",
      "\n",
      "See the caveats in the documentation: https://pandas.pydata.org/pandas-docs/stable/user_guide/indexing.html#returning-a-view-versus-a-copy\n",
      "  df['ser_time_calc'] = df['ser_time_calc'].astype('int')\n"
     ]
    }
   ],
   "source": [
    "df['q_time_calc'] = df['q_time_calc'].astype('int')\n",
    "\n",
    "df['vru_time_calc'] = df['vru_time_calc'].astype('int')\n",
    "\n",
    "df['ser_time_calc'] = df['ser_time_calc'].astype('int')\n",
    "\n",
    "df.loc[df['ser_time_calc'] == 0, 'server'] = \"NO_SERVER\"\n",
    "df.loc[df['ser_time_calc'] == 0, 'outcome'] = \"HANG\""
   ]
  },
  {
   "cell_type": "code",
   "execution_count": 65,
   "metadata": {},
   "outputs": [
    {
     "name": "stderr",
     "output_type": "stream",
     "text": [
      "C:\\Users\\matia\\AppData\\Local\\Temp\\ipykernel_25368\\1437680434.py:1: SettingWithCopyWarning: \n",
      "A value is trying to be set on a copy of a slice from a DataFrame.\n",
      "Try using .loc[row_indexer,col_indexer] = value instead\n",
      "\n",
      "See the caveats in the documentation: https://pandas.pydata.org/pandas-docs/stable/user_guide/indexing.html#returning-a-view-versus-a-copy\n",
      "  df['total_time'] = df['vru_time_calc'] + df['q_time_calc'] + df['ser_time_calc']\n"
     ]
    },
    {
     "name": "stdout",
     "output_type": "stream",
     "text": [
      "<class 'pandas.core.frame.DataFrame'>\n",
      "Index: 440844 entries, 0 to 444447\n",
      "Data columns (total 22 columns):\n",
      " #   Column          Non-Null Count   Dtype         \n",
      "---  ------          --------------   -----         \n",
      " 0   vru.line        440844 non-null  string        \n",
      " 1   call_id         440844 non-null  string        \n",
      " 2   customer_id     440844 non-null  object        \n",
      " 3   priority        440844 non-null  category      \n",
      " 4   type            440844 non-null  category      \n",
      " 5   date            440844 non-null  datetime64[ns]\n",
      " 6   vru_start       440844 non-null  object        \n",
      " 7   vru_exit        440844 non-null  object        \n",
      " 8   vru_time        440844 non-null  int64         \n",
      " 9   q_start         440844 non-null  object        \n",
      " 10  q_exit          440844 non-null  object        \n",
      " 11  q_time          440844 non-null  int64         \n",
      " 12  outcome         440844 non-null  category      \n",
      " 13  ser_start       440844 non-null  object        \n",
      " 14  ser_exit        440844 non-null  object        \n",
      " 15  ser_time        440844 non-null  int64         \n",
      " 16  server          440844 non-null  category      \n",
      " 17  priority_level  440844 non-null  category      \n",
      " 18  vru_time_calc   440844 non-null  int32         \n",
      " 19  q_time_calc     440844 non-null  int32         \n",
      " 20  ser_time_calc   440844 non-null  int32         \n",
      " 21  total_time      440844 non-null  int32         \n",
      "dtypes: category(5), datetime64[ns](1), int32(4), int64(3), object(7), string(2)\n",
      "memory usage: 55.9+ MB\n"
     ]
    }
   ],
   "source": [
    "\n",
    "df['total_time'] = df['vru_time_calc'] + df['q_time_calc'] + df['ser_time_calc']\n",
    "\n",
    "df.info()"
   ]
  },
  {
   "cell_type": "code",
   "execution_count": null,
   "metadata": {},
   "outputs": [],
   "source": []
  },
  {
   "cell_type": "code",
   "execution_count": null,
   "metadata": {},
   "outputs": [],
   "source": [
    "\n"
   ]
  },
  {
   "cell_type": "code",
   "execution_count": null,
   "metadata": {},
   "outputs": [],
   "source": []
  },
  {
   "cell_type": "code",
   "execution_count": null,
   "metadata": {},
   "outputs": [],
   "source": []
  },
  {
   "cell_type": "code",
   "execution_count": null,
   "metadata": {},
   "outputs": [],
   "source": []
  },
  {
   "cell_type": "code",
   "execution_count": null,
   "metadata": {},
   "outputs": [],
   "source": []
  },
  {
   "cell_type": "code",
   "execution_count": null,
   "metadata": {},
   "outputs": [],
   "source": []
  },
  {
   "cell_type": "code",
   "execution_count": null,
   "metadata": {},
   "outputs": [],
   "source": [
    "'''\n",
    "\n",
    "# Supongamos que ya tienes df cargado con datos\n",
    "\n",
    "# Calcular el rango intercuartílico (IQR)\n",
    "Q1 = df['total_time'].quantile(0.25)\n",
    "Q3 = df['total_time'].quantile(0.75)\n",
    "IQR = Q3 - Q1\n",
    "\n",
    "# Definir los límites para identificar outliers\n",
    "lower_limit = Q1 - 1.5 * IQR\n",
    "upper_limit = Q3 + 1.5 * IQR\n",
    "\n",
    "# Identificar outliers\n",
    "outliers = df[(df['total_time'] < lower_limit) | (df['total_time'] > upper_limit)]\n",
    "\n",
    "# Imprimir los resultados\n",
    "print(\"Límite inferior para outliers:\", lower_limit)\n",
    "print(\"Límite superior para outliers:\", upper_limit)\n",
    "print(\"Outliers:\")\n",
    "print(outliers[['total_time']])\n",
    "'''\n"
   ]
  },
  {
   "cell_type": "code",
   "execution_count": null,
   "metadata": {},
   "outputs": [],
   "source": []
  },
  {
   "cell_type": "code",
   "execution_count": null,
   "metadata": {},
   "outputs": [],
   "source": []
  },
  {
   "cell_type": "code",
   "execution_count": null,
   "metadata": {},
   "outputs": [],
   "source": []
  },
  {
   "cell_type": "code",
   "execution_count": null,
   "metadata": {},
   "outputs": [],
   "source": []
  },
  {
   "cell_type": "code",
   "execution_count": null,
   "metadata": {},
   "outputs": [],
   "source": []
  },
  {
   "cell_type": "code",
   "execution_count": 66,
   "metadata": {},
   "outputs": [
    {
     "data": {
      "text/plain": [
       "count    440844.000000\n",
       "mean        205.896306\n",
       "std         340.462404\n",
       "min           0.000000\n",
       "25%          60.000000\n",
       "50%         129.000000\n",
       "75%         258.000000\n",
       "max       76878.000000\n",
       "Name: total_time, dtype: float64"
      ]
     },
     "execution_count": 66,
     "metadata": {},
     "output_type": "execute_result"
    }
   ],
   "source": [
    "df['total_time'].describe()"
   ]
  },
  {
   "cell_type": "code",
   "execution_count": null,
   "metadata": {},
   "outputs": [],
   "source": [
    "\n",
    "\n",
    "# Supongamos que ya tienes df cargado con datos\n",
    "\n",
    "# Boxplot para visualizar outliers\n",
    "plt.figure(figsize=(10, 6))\n",
    "sns.boxplot(x=df['total_time'])\n",
    "plt.title('Boxplot de total_time para identificar outliers')\n",
    "plt.show()\n",
    "\n"
   ]
  },
  {
   "cell_type": "code",
   "execution_count": null,
   "metadata": {},
   "outputs": [],
   "source": []
  },
  {
   "cell_type": "code",
   "execution_count": null,
   "metadata": {},
   "outputs": [],
   "source": []
  },
  {
   "cell_type": "code",
   "execution_count": null,
   "metadata": {},
   "outputs": [],
   "source": []
  },
  {
   "cell_type": "code",
   "execution_count": null,
   "metadata": {},
   "outputs": [],
   "source": [
    "# Filtrar los datos para 'total_time' menores a 900\n",
    "df_filtered = df[df['total_time'] < 900]\n",
    "\n",
    "# Boxplot para visualizar outliers con zoom para valores menores a 900\n",
    "plt.figure(figsize=(10, 6))\n",
    "sns.boxplot(x=df_filtered['total_time'])\n",
    "plt.title('Boxplot de total_time para valores menores a 900')\n",
    "plt.show()"
   ]
  },
  {
   "cell_type": "code",
   "execution_count": null,
   "metadata": {},
   "outputs": [],
   "source": [
    "# Filtrar los datos para 'total_time' menores a 500\n",
    "df_filtered = df[df['total_time'] < 500]\n",
    "\n",
    "# Boxplot para visualizar outliers con zoom para valores menores a 900\n",
    "plt.figure(figsize=(10, 6))\n",
    "sns.boxplot(x=df_filtered['total_time'])\n",
    "plt.title('Boxplot de total_time para valores menores a 500')\n",
    "plt.show()"
   ]
  },
  {
   "cell_type": "code",
   "execution_count": null,
   "metadata": {},
   "outputs": [],
   "source": []
  },
  {
   "cell_type": "code",
   "execution_count": 67,
   "metadata": {},
   "outputs": [],
   "source": [
    "df = df[df['total_time'] <= 1200]"
   ]
  },
  {
   "cell_type": "code",
   "execution_count": 68,
   "metadata": {},
   "outputs": [
    {
     "data": {
      "image/png": "[encoded data removed]",
      "text/plain": [
       "<Figure size 1000x600 with 1 Axes>"
      ]
     },
     "metadata": {},
     "output_type": "display_data"
    }
   ],
   "source": [
    "# Boxplot para visualizar outliers\n",
    "plt.figure(figsize=(10, 6))\n",
    "sns.boxplot(x=df['total_time'])\n",
    "plt.title('Boxplot de total_time para identificar outliers')\n",
    "plt.show()"
   ]
  },
  {
   "cell_type": "code",
   "execution_count": null,
   "metadata": {},
   "outputs": [],
   "source": []
  },
  {
   "cell_type": "code",
   "execution_count": 69,
   "metadata": {},
   "outputs": [
    {
     "data": {
      "text/plain": [
       "count    436417.000000\n",
       "mean        188.919788\n",
       "std         193.338928\n",
       "min           0.000000\n",
       "25%          60.000000\n",
       "50%         127.000000\n",
       "75%         252.000000\n",
       "max        1200.000000\n",
       "Name: total_time, dtype: float64"
      ]
     },
     "execution_count": 69,
     "metadata": {},
     "output_type": "execute_result"
    }
   ],
   "source": [
    "df['total_time'].describe()"
   ]
  },
  {
   "cell_type": "code",
   "execution_count": null,
   "metadata": {},
   "outputs": [],
   "source": []
  },
  {
   "cell_type": "code",
   "execution_count": null,
   "metadata": {},
   "outputs": [],
   "source": []
  },
  {
   "cell_type": "code",
   "execution_count": null,
   "metadata": {},
   "outputs": [],
   "source": []
  },
  {
   "cell_type": "code",
   "execution_count": null,
   "metadata": {},
   "outputs": [],
   "source": []
  },
  {
   "cell_type": "code",
   "execution_count": null,
   "metadata": {},
   "outputs": [],
   "source": []
  },
  {
   "cell_type": "code",
   "execution_count": 70,
   "metadata": {},
   "outputs": [],
   "source": [
    "\n",
    "df.to_csv('CC99_DataSet.csv', index=False)\n"
   ]
  }
 ],
 "metadata": {
  "kernelspec": {
   "display_name": "Python 3",
   "language": "python",
   "name": "python3"
  },
  "language_info": {
   "codemirror_mode": {
    "name": "ipython",
    "version": 3
   },
   "file_extension": ".py",
   "mimetype": "text/x-python",
   "name": "python",
   "nbconvert_exporter": "python",
   "pygments_lexer": "ipython3",
   "version": "3.11.4"
  }
 },
 "nbformat": 4,
 "nbformat_minor": 2
}
